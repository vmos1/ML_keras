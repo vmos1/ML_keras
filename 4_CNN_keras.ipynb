{
 "cells": [
  {
   "cell_type": "markdown",
   "metadata": {},
   "source": [
    "# Code to classify images using a Convolutional Neural Network using keras\n",
    "\n",
    "Code is a combination of stuff from https://github.com/adventuresinML/adventures-in-ml-code/blob/master/keras_cnn.py , Wahid's tutorial and my ice-cube 3d Cnn code.\n",
    "\n",
    "March 23, 2019"
   ]
  },
  {
   "cell_type": "code",
   "execution_count": 1,
   "metadata": {},
   "outputs": [
    {
     "name": "stdout",
     "output_type": "stream",
     "text": [
      "Notebook last updated: 2019-03-23 12:42:23\n"
     ]
    }
   ],
   "source": [
    "import datetime\n",
    "print('Notebook last updated: {:%Y-%m-%d %H:%M:%S}'.format(datetime.datetime.now()))"
   ]
  },
  {
   "cell_type": "code",
   "execution_count": 2,
   "metadata": {},
   "outputs": [],
   "source": [
    "import numpy as np\n",
    "import os\n",
    "import subprocess as sp\n",
    "\n",
    "\n",
    "import glob\n",
    "import pickle\n",
    "import time\n",
    "import argparse \n",
    "import datetime\n",
    "\n",
    "import matplotlib.pyplot as plt"
   ]
  },
  {
   "cell_type": "code",
   "execution_count": 3,
   "metadata": {},
   "outputs": [],
   "source": [
    "%matplotlib widget"
   ]
  },
  {
   "cell_type": "code",
   "execution_count": 4,
   "metadata": {},
   "outputs": [
    {
     "name": "stderr",
     "output_type": "stream",
     "text": [
      "Using TensorFlow backend.\n"
     ]
    }
   ],
   "source": [
    "import tensorflow.keras as keras\n",
    "\n",
    "from keras import layers, models, optimizers, callbacks  # or tensorflow.keras as keras\n",
    "# import tensorflow as tf\n",
    "from sklearn.utils import shuffle\n",
    "from sklearn.metrics import roc_curve, auc, roc_auc_score\n",
    "from keras.models import load_model\n",
    "from keras.datasets import mnist\n"
   ]
  },
  {
   "cell_type": "markdown",
   "metadata": {},
   "source": [
    "### Load data"
   ]
  },
  {
   "cell_type": "code",
   "execution_count": 5,
   "metadata": {},
   "outputs": [],
   "source": [
    "\n",
    "def f_load_data(num_classes):\n",
    "    '''\n",
    "    Load the mnist data and process it\n",
    "    Steps:\n",
    "    \n",
    "    '''\n",
    "    # input image dimensions\n",
    "    img_x, img_y = 28, 28\n",
    "\n",
    "    # load the MNIST data set, which already splits into train and test sets for us\n",
    "    (x_train, y_train), (x_test, y_test) = mnist.load_data()\n",
    "\n",
    "    # reshape the data into a 4D tensor - (sample_number, x_img_size, y_img_size, num_channels)\n",
    "    # because the MNIST is greyscale, we only have a single channel - RGB colour images would have 3\n",
    "    x_train = x_train.reshape(x_train.shape[0], img_x, img_y, 1)\n",
    "    x_test = x_test.reshape(x_test.shape[0], img_x, img_y, 1)\n",
    "    input_shape = (img_x, img_y, 1)\n",
    "\n",
    "    # convert the data to the right type\n",
    "    x_train = x_train.astype('float32')\n",
    "    x_test = x_test.astype('float32')\n",
    "    x_train /= 255\n",
    "    x_test /= 255\n",
    "    print('x_train shape:', x_train.shape)\n",
    "    print(x_train.shape[0], 'train samples')\n",
    "    print(x_test.shape[0], 'test samples')\n",
    "\n",
    "    # convert class vectors to binary class matrices - this is for use in the categorical_crossentropy loss below\n",
    "    y_train = keras.utils.to_categorical(y_train, num_classes)\n",
    "    y_test = keras.utils.to_categorical(y_test, num_classes)\n",
    "\n",
    "    return (x_train, y_train), (x_test, y_test)\n",
    "\n"
   ]
  },
  {
   "cell_type": "markdown",
   "metadata": {},
   "source": [
    "### Build model"
   ]
  },
  {
   "cell_type": "code",
   "execution_count": 6,
   "metadata": {},
   "outputs": [],
   "source": [
    "\n",
    "def f_build_model(inpx,num_classes=10):\n",
    "    '''\n",
    "    Build and compile model.\n",
    "    '''\n",
    "\n",
    "    inputs = layers.Input(shape=x_train.shape[1:])\n",
    "    h = inputs\n",
    "\n",
    "    # Convolutional layers\n",
    "    conv_sizes=[10,10,10]\n",
    "    conv_args = dict(kernel_size=(3, 3), activation='relu', padding='same')\n",
    "    for conv_size in conv_sizes:\n",
    "        h = layers.Conv2D(conv_size, **conv_args)(h)\n",
    "        h = layers.MaxPooling2D(pool_size=(2, 2))(h)\n",
    "    h = layers.Flatten()(h)\n",
    "\n",
    "    # Fully connected  layers\n",
    "    h = layers.Dense(64, activation='relu')(h)\n",
    "\n",
    "    # Ouptut layer\n",
    "    outputs = layers.Dense(num_classes, activation='sigmoid')(h)\n",
    "\n",
    "    learn_rate=0.0005\n",
    "\n",
    "    model = models.Model(inputs, outputs)\n",
    "    #### change loss function for non-resnet models since 'sparse_categorical_crossentropy' throws up an error.\n",
    "    opt,loss_fn=optimizers.Adam(lr=learn_rate),'binary_crossentropy'\n",
    "\n",
    "    model.compile(optimizer=opt, loss=loss_fn, metrics=['accuracy'])\n",
    "\n",
    "    return model\n",
    "\n"
   ]
  },
  {
   "cell_type": "markdown",
   "metadata": {},
   "source": [
    "### Fit model"
   ]
  },
  {
   "cell_type": "code",
   "execution_count": 29,
   "metadata": {},
   "outputs": [],
   "source": [
    "def f_train_model(model,inpx,inpy,num_epochs,batch_size,verbose,model_save_name):\n",
    "    '''\n",
    "    Train model. Returns just history.history\n",
    "    '''\n",
    "    cv_fraction=0.33 # Fraction of data for cross validation\n",
    "    \n",
    "    history=model.fit(x=x_train, y=y_train,\n",
    "                    batch_size=batch_size,\n",
    "                    epochs=num_epochs,\n",
    "                    verbose=verbose,\n",
    "                    callbacks = [callbacks.EarlyStopping(monitor='val_loss', min_delta=0,patience=10, verbose=1, mode='auto'),\n",
    "                                 callbacks.ModelCheckpoint(model_save_name, save_best_only=True, monitor='val_loss', mode='auto') ],\n",
    "                    validation_split=cv_fraction,\n",
    "                    shuffle=True\n",
    "                )\n",
    "    \n",
    "    print(\"Number of parameters\",model.count_params())\n",
    "    \n",
    "    return history.history"
   ]
  },
  {
   "cell_type": "markdown",
   "metadata": {},
   "source": [
    "### Test model"
   ]
  },
  {
   "cell_type": "code",
   "execution_count": 30,
   "metadata": {},
   "outputs": [],
   "source": [
    "# y_pred=model.predict(xdata,verbose=1)"
   ]
  },
  {
   "cell_type": "markdown",
   "metadata": {},
   "source": [
    "### Plot training and results"
   ]
  },
  {
   "cell_type": "code",
   "execution_count": 41,
   "metadata": {},
   "outputs": [],
   "source": [
    "\n",
    "    \n",
    "\n",
    "def f_plot_learning(history):\n",
    "    '''\n",
    "    Plot learning curves : Accuracy and Validation\n",
    "    '''\n",
    "    \n",
    "    fig=plt.figure()\n",
    "    # Plot training & validation accuracy values\n",
    "    fig.add_subplot(2,1,1)\n",
    "    xlim=len(history['acc'])\n",
    "    \n",
    "    plt.plot(history['acc'],label='Train',marker='o')\n",
    "    plt.plot(history['val_acc'],label='Validation',marker='*')\n",
    "#     plt.title('Model accuracy')\n",
    "    plt.ylabel('Accuracy')\n",
    "    plt.xticks(np.arange(0,xlim,2))\n",
    "    \n",
    "    # Plot loss values\n",
    "    fig.add_subplot(2,1,2)\n",
    "    plt.plot(history['loss'],label='Train',marker='o')\n",
    "    plt.plot(history['val_loss'],label='Validation',marker='*')\n",
    "#     plt.title('Model loss')\n",
    "    plt.ylabel('Loss')\n",
    "    plt.xlabel('Epoch')\n",
    "    plt.xticks(np.arange(0,xlim,2))\n",
    "\n",
    "    plt.legend(loc='best')\n",
    "    \n",
    "\n",
    "def f_plot_roc_curve(fpr,tpr):\n",
    "    '''\n",
    "    Module for roc plot and printing AUC\n",
    "    '''\n",
    "    \n",
    "    plt.figure()\n",
    "    plt.scatter(fpr,tpr)\n",
    "    plt.xscale('log')\n",
    "\n",
    "    plt.xlim([10**-7,1.0])\n",
    "    plt.ylim([0,1.0])\n",
    "    # y=x line for comparison\n",
    "    x=np.linspace(0,1,num=500)\n",
    "    plt.plot(x,x)\n",
    "    \n",
    "    plt.show()\n",
    "\n",
    "    # AUC \n",
    "    auc_val = auc(fpr, tpr)\n",
    "    print(\"AUC: \",auc_val)\n",
    "\n",
    "    return auc_val"
   ]
  },
  {
   "cell_type": "markdown",
   "metadata": {},
   "source": [
    "### Main function"
   ]
  },
  {
   "cell_type": "code",
   "execution_count": null,
   "metadata": {},
   "outputs": [],
   "source": [
    "if __name__=='__main__':\n",
    "    \n",
    "    batch_size = 128\n",
    "    num_classes = 10\n",
    "    num_epochs = 100\n",
    "    verbose=1\n",
    "    model_save_name='.mdl_weights.h5'\n",
    "    \n",
    "    (x_train, y_train), (x_test, y_test)=f_load_data(num_classes)\n",
    "    model=f_build_model(x_train,num_classes)\n",
    "    history=f_train_model(model,x_train,x_test,num_epochs,batch_size,verbose,model_save_name)\n",
    "    model = load_model(model_save_name)\n",
    "    y_pred=model.predict(x_test,verbose=1)\n"
   ]
  },
  {
   "cell_type": "code",
   "execution_count": null,
   "metadata": {},
   "outputs": [],
   "source": [
    "if __name__=='__main__':\n",
    "    ### Plotting learning curve\n",
    "    f_plot_learning(history)\n",
    "    \n",
    "    ### Roc curve\n",
    "    ##### Since is a case of multi-class classification, for a simple roc curve, just use 1st column for each sample.\n",
    "    y_pred_1d=y_pred[:,[0]]\n",
    "    y_test_1d=y_test[:,[0]]\n",
    "    fpr,tpr,threshold=roc_curve(y_test_1d,y_pred_1d)\n",
    "    f_plot_roc_curve(fpr,tpr)"
   ]
  },
  {
   "cell_type": "markdown",
   "metadata": {},
   "source": [
    "### To do : \n",
    "- Roc curve for multi-class"
   ]
  },
  {
   "cell_type": "code",
   "execution_count": null,
   "metadata": {},
   "outputs": [],
   "source": []
  }
 ],
 "metadata": {
  "kernelspec": {
   "display_name": "v_py3",
   "language": "python",
   "name": "v_jpt_py3"
  },
  "language_info": {
   "codemirror_mode": {
    "name": "ipython",
    "version": 3
   },
   "file_extension": ".py",
   "mimetype": "text/x-python",
   "name": "python",
   "nbconvert_exporter": "python",
   "pygments_lexer": "ipython3",
   "version": "3.6.8"
  }
 },
 "nbformat": 4,
 "nbformat_minor": 2
}
